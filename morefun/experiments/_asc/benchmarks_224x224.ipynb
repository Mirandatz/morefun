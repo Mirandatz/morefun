{
  "cells": [
    {
      "cell_type": "code",
      "execution_count": null,
      "id": "7d319bb1-24df-4207-b4af-38ee7f4b0564",
      "metadata": {
        "id": "7d319bb1-24df-4207-b4af-38ee7f4b0564"
      },
      "outputs": [],
      "source": [
        "import os\n",
        "import pathlib\n",
        "import typing\n",
        "\n",
        "import tensorflow as tf\n",
        "import tensorflow_addons as tfa"
      ]
    },
    {
      "cell_type": "code",
      "execution_count": null,
      "id": "22642e93-454c-48fe-87f4-22a434c82c75",
      "metadata": {
        "id": "22642e93-454c-48fe-87f4-22a434c82c75"
      },
      "outputs": [],
      "source": [
        "RNG_SEED = 42\n",
        "\n",
        "BATCH_SIZE = 64\n",
        "INPUT_SHAPE = (32, 32, 3)\n",
        "UPSCALED_SHAPE = (224, 224, 3)\n",
        "CLASS_COUNT = 10\n",
        "VERBOSE = 1\n",
        "\n",
        "DATASET_DIR = pathlib.Path(\"/datasets/cifar10_train_test\")\n",
        "\n",
        "# enable XLA\n",
        "tf.config.optimizer.set_jit(\"autoclustering\")"
      ]
    },
    {
      "cell_type": "code",
      "execution_count": null,
      "id": "cecea249-6bf3-42fc-a1dc-71d1f7f73bcf",
      "metadata": {
        "tags": [],
        "id": "cecea249-6bf3-42fc-a1dc-71d1f7f73bcf"
      },
      "outputs": [],
      "source": [
        "def load_train_partition(\n",
        "    input_shape: tuple[int, int, int],\n",
        "    upscaled_shape: tuple[int, int, int],\n",
        "    batch_size: int,\n",
        "    preprocessing_func: typing.Callable[[tf.Tensor], tf.Tensor],\n",
        "    directory: pathlib.Path,\n",
        "    rng_seed: int,\n",
        ") -> tf.data.Dataset:\n",
        "    train: tf.data.Dataset = tf.keras.utils.image_dataset_from_directory(\n",
        "        directory=directory,\n",
        "        batch_size=None,\n",
        "        image_size=(input_shape[0], input_shape[1]),\n",
        "        label_mode=\"categorical\",\n",
        "        shuffle=False,\n",
        "        color_mode=\"rgb\",\n",
        "    )\n",
        "    \n",
        "    resizing_layer = tf.keras.layers.Resizing(\n",
        "        height=upscaled_shape[0], \n",
        "        width=upscaled_shape[1],\n",
        "    )\n",
        "    resized = train.map(lambda d, t: (resizing_layer(d), t))\n",
        "    \n",
        "    preprocessed = resized.map(lambda d, t: (preprocessing_func(d), t))\n",
        "    \n",
        "    return (\n",
        "        preprocessed.cache()\n",
        "        .shuffle(\n",
        "            buffer_size=preprocessed.cardinality().numpy(),\n",
        "            seed=rng_seed,\n",
        "            reshuffle_each_iteration=True,\n",
        "        )\n",
        "        .batch(batch_size, drop_remainder=True)\n",
        "        .prefetch(tf.data.AUTOTUNE)\n",
        "    )"
      ]
    },
    {
      "cell_type": "code",
      "execution_count": null,
      "id": "b7da37b9-54db-48f6-8f8c-21d03644c4cb",
      "metadata": {
        "id": "b7da37b9-54db-48f6-8f8c-21d03644c4cb"
      },
      "outputs": [],
      "source": [
        "def load_non_train_partition(\n",
        "    input_shape: tuple[int, int, int],\n",
        "    upscaled_shape: tuple[int, int, int],\n",
        "    batch_size: int,\n",
        "    preprocessing_func: typing.Callable[[tf.Tensor], tf.Tensor],\n",
        "    directory: pathlib.Path,\n",
        ") -> tf.data.Dataset:\n",
        "    test: tf.data.Dataset = tf.keras.utils.image_dataset_from_directory(\n",
        "        directory=directory,\n",
        "        batch_size=None,\n",
        "        image_size=(input_shape[0], input_shape[1]),\n",
        "        label_mode=\"categorical\",\n",
        "        shuffle=False,\n",
        "        color_mode=\"rgb\",\n",
        "    )\n",
        "    \n",
        "    resizing_layer = tf.keras.layers.Resizing(\n",
        "        height=upscaled_shape[0], \n",
        "        width=upscaled_shape[1],\n",
        "    )    \n",
        "    resized = test.map(lambda d, t: (resizing_layer(d), t))\n",
        "    \n",
        "    preprocessed = resized.map(lambda d, t: (preprocessing_func(d), t))\n",
        "    \n",
        "    return (\n",
        "        preprocessed.cache()\n",
        "        .batch(batch_size, drop_remainder=False)\n",
        "        .prefetch(tf.data.AUTOTUNE)\n",
        "    )"
      ]
    },
    {
      "cell_type": "code",
      "execution_count": null,
      "id": "50226308-7af0-4730-9478-83b7690b6c61",
      "metadata": {
        "id": "50226308-7af0-4730-9478-83b7690b6c61"
      },
      "outputs": [],
      "source": [
        "def benchmark_model(\n",
        "    model_constructor: typing.Callable[[], tf.keras.Model],\n",
        "    preprocessing_func: typing.Callable[[tf.Tensor], tf.Tensor],\n",
        "):\n",
        "    base_model = model_constructor(\n",
        "        include_top=True,\n",
        "        weights=None,\n",
        "        input_tensor=None,\n",
        "        input_shape=UPSCALED_SHAPE,\n",
        "        pooling=\"max\",\n",
        "        classes=CLASS_COUNT,\n",
        "        classifier_activation=\"softmax\",\n",
        "        )\n",
        "\n",
        "    model_input = tf.keras.Input(shape=UPSCALED_SHAPE, batch_size=BATCH_SIZE)\n",
        "\n",
        "    data_aug = tf.keras.layers.RandomFlip(mode=\"horizontal\")(model_input)\n",
        "    data_aug = tf.keras.layers.RandomRotation(factor=15.0 / 360)(data_aug)\n",
        "    data_aug = tf.keras.layers.RandomTranslation(height_factor=0.1, width_factor=0.1)(data_aug)\n",
        "\n",
        "    model_output = base_model(data_aug)\n",
        "\n",
        "    model = tf.keras.Model(inputs=model_input, outputs=model_output)\n",
        "\n",
        "    radam = tfa.optimizers.RectifiedAdam()\n",
        "    ranger = tfa.optimizers.Lookahead(radam, sync_period=6, slow_step_size=0.5)\n",
        "\n",
        "    model.compile(\n",
        "        optimizer=ranger, \n",
        "        loss=\"categorical_crossentropy\",\n",
        "        metrics=\"accuracy\",\n",
        "        )\n",
        "\n",
        "    train = load_train_partition(\n",
        "        input_shape=INPUT_SHAPE,\n",
        "        upscaled_shape=UPSCALED_SHAPE,\n",
        "        batch_size=BATCH_SIZE,\n",
        "        preprocessing_func=preprocessing_func,\n",
        "        directory=DATASET_DIR / \"train\",\n",
        "        rng_seed=RNG_SEED,\n",
        "        )\n",
        "\n",
        "    test = load_non_train_partition(\n",
        "        input_shape=INPUT_SHAPE,\n",
        "        upscaled_shape=UPSCALED_SHAPE,\n",
        "        batch_size=BATCH_SIZE,\n",
        "        preprocessing_func=preprocessing_func,\n",
        "        directory=DATASET_DIR / \"test\",\n",
        "        )    \n",
        "\n",
        "    callbacks = [tf.keras.callbacks.EarlyStopping(patience=6, monitor=\"loss\", restore_best_weights=True)]\n",
        "    model.fit(train, epochs=999, callbacks=callbacks, verbose=VERBOSE)\n",
        "    loss, accuracy = model.evaluate(test)\n",
        "    return accuracy"
      ]
    },
    {
      "cell_type": "code",
      "execution_count": null,
      "id": "f7777533-b86c-4712-867a-64f34b6950c1",
      "metadata": {
        "tags": [],
        "id": "f7777533-b86c-4712-867a-64f34b6950c1"
      },
      "outputs": [],
      "source": [
        "models_and_funcs = {\n",
        "    tf.keras.applications.ResNet152 : tf.keras.applications.resnet.preprocess_input,\n",
        "    tf.keras.applications.ResNet50 : tf.keras.applications.resnet.preprocess_input,\n",
        "    tf.keras.applications.VGG16 : tf.keras.applications.vgg16.preprocess_input,\n",
        "    tf.keras.applications.VGG19 : tf.keras.applications.vgg19.preprocess_input,\n",
        "}\n",
        "\n",
        "pairs = iter(models_and_funcs.items())\n",
        "results = {}"
      ]
    },
    {
      "cell_type": "code",
      "execution_count": null,
      "id": "c3a16825-d848-4c70-a617-b63b79b9b576",
      "metadata": {
        "id": "c3a16825-d848-4c70-a617-b63b79b9b576"
      },
      "outputs": [],
      "source": [
        "# ResNet152\n",
        "\n",
        "model, preprocessing_func = next(pairs)\n",
        "test_accuracy = benchmark_model(model, preprocessing_func)\n",
        "results[model.__name__] = test_accuracy"
      ]
    },
    {
      "cell_type": "code",
      "execution_count": null,
      "id": "fb864430-b556-4f22-9077-2bbf94a70586",
      "metadata": {
        "id": "fb864430-b556-4f22-9077-2bbf94a70586"
      },
      "outputs": [],
      "source": [
        "# ResNet50\n",
        "\n",
        "model, preprocessing_func = next(pairs)\n",
        "test_accuracy = benchmark_model(model, preprocessing_func)\n",
        "results[model.__name__] = test_accuracy"
      ]
    },
    {
      "cell_type": "code",
      "execution_count": null,
      "id": "c66e6c7a-92d0-4f74-b73d-89644ba7453b",
      "metadata": {
        "id": "c66e6c7a-92d0-4f74-b73d-89644ba7453b"
      },
      "outputs": [],
      "source": [
        "# VGG16\n",
        "\n",
        "model, preprocessing_func = next(pairs)\n",
        "test_accuracy = benchmark_model(model, preprocessing_func)\n",
        "results[model.__name__] = test_accuracy"
      ]
    },
    {
      "cell_type": "code",
      "execution_count": null,
      "id": "15ffef1e-ca69-47f3-9695-e7fc09f6874e",
      "metadata": {
        "id": "15ffef1e-ca69-47f3-9695-e7fc09f6874e"
      },
      "outputs": [],
      "source": [
        "# VGG19\n",
        "\n",
        "model, preprocessing_func = next(pairs)\n",
        "test_accuracy = benchmark_model(model, preprocessing_func)\n",
        "results[model.__name__] = test_accuracy"
      ]
    },
    {
      "cell_type": "code",
      "execution_count": null,
      "id": "41476cec-a4bb-4cf6-aae7-c0668c144ee8",
      "metadata": {
        "tags": [],
        "id": "41476cec-a4bb-4cf6-aae7-c0668c144ee8"
      },
      "outputs": [],
      "source": [
        "# summary\n",
        "for model, accuracy in results.items():\n",
        "    print(model, accuracy)"
      ]
    }
  ],
  "metadata": {
    "kernelspec": {
      "display_name": "Python 3 (ipykernel)",
      "language": "python",
      "name": "python3"
    },
    "language_info": {
      "codemirror_mode": {
        "name": "ipython",
        "version": 3
      },
      "file_extension": ".py",
      "mimetype": "text/x-python",
      "name": "python",
      "nbconvert_exporter": "python",
      "pygments_lexer": "ipython3",
      "version": "3.10.10"
    },
    "colab": {
      "provenance": []
    }
  },
  "nbformat": 4,
  "nbformat_minor": 5
}